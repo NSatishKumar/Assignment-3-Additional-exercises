{
 "cells": [
  {
   "cell_type": "markdown",
   "metadata": {},
   "source": [
    "## Write a python program which creates a class named Cone and write a                       function calculate_area which calculates the area of the Cone. \n",
    "\n",
    "                             Sample Execution: \n",
    "                            Please enter the radius of the cone: 4 \n",
    "                            Please enter the height of the cone: 5 \n",
    "                            Area of a cone with radius: 4.00 and height: 5.00 is: 83.73 "
   ]
  },
  {
   "cell_type": "code",
   "execution_count": 1,
   "metadata": {},
   "outputs": [
    {
     "name": "stdout",
     "output_type": "stream",
     "text": [
      "Enter the radius of Cone 4\n",
      "Enter the height of Cone 5\n",
      "Area of the Cone with radius 4.0 and height 5.0 is: 83.73\n"
     ]
    }
   ],
   "source": [
    "import math\n",
    "class parentClassConeArea:                                             # Defining the Parent class\n",
    "    def __init__(self):\n",
    "        radius=\"\"                                                    # Defining the atributes\n",
    "        height=\"\"\n",
    "    \n",
    "    def inputvalues(self):                                            # Defining the input function to recieve inputs\n",
    "        r=input(\"Enter the radius of Cone \")\n",
    "        if r.isdigit():\n",
    "            self.radius=r\n",
    "        else:\n",
    "            return False\n",
    "        hgt=input(\"Enter the height of Cone \")\n",
    "        if hgt.isdigit():\n",
    "            self.height=hgt\n",
    "        else:\n",
    "            return False\n",
    "class childClassConeArea(parentClassConeArea):                            # Defining the child class\n",
    "    def findConeArea(self):                                               # Defining the funcition to calculate the Area\n",
    "        r=float(self.radius)\n",
    "        h=float(self.height)\n",
    "        areavalue=round(((1/3)*3.14*(r**2)*h),2)                    # calculating the volume and rounding to 2 decimals\n",
    "        print(\"Area of the Cone with radius {} and height {} is: {}\" .format(r,h,areavalue))       # printing the output volume\n",
    "\n",
    "pcAreaVar=childClassConeArea()                                                   # Creating a object for child class\n",
    "flag=pcAreaVar.inputvalues()                                              # Calling the inputvalues function\n",
    "if(flag==False):\n",
    "    print(\"Enter the digits\")\n",
    "else:\n",
    "    pcAreaVar.findConeArea()                                                     #Calling the findVolume function"
   ]
  },
  {
   "cell_type": "markdown",
   "metadata": {},
   "source": [
    "## 2) Define a class MathOperation which implements pow(x,n) without using python's in-built pow() method \n",
    "\n",
    "                             Sample Execution: \n",
    "                             M = MathOperation() \n",
    "                             print(M.pow(2, 3)) \n",
    "                             8 \n",
    "                             print(M.pow(5, -3)) \n",
    "                             0.008 \n",
    "                             print(M.pow(-2, 5)) \n",
    "                             -32 \n",
    "                             print(M.pow(-5, -3)) \n",
    "                             -0.008 \n",
    "                             print(M.pow(20000,0)) \n",
    "                             1 "
   ]
  },
  {
   "cell_type": "code",
   "execution_count": 2,
   "metadata": {},
   "outputs": [
    {
     "name": "stdout",
     "output_type": "stream",
     "text": [
      "result of pow(2, 3)  8\n",
      "result of pow(5,-3)  0.008\n",
      "result of pow(-2, 5)  -32\n",
      "result of pow(-5,-3)  -0.008\n",
      "result of pow(20000, 3)  1\n"
     ]
    }
   ],
   "source": [
    "class MathOperation:                                              # Defining the MathOperation class\n",
    "    def __init__(self):\n",
    "        inpVal=\"\"                                                 # Defining the attributes\n",
    "        power=\"\"\n",
    "\n",
    "    def pow(self,inpVal,power):                                   # Defining the power function\n",
    "        self.inpVal=inpVal                                        # Defining the atributes\n",
    "        self.power=power\n",
    "        return self.inpVal** self.power                           # return the result\n",
    "M=MathOperation()                                                 # Creating the object \n",
    "print(\"result of pow(2, 3) \",M.pow(2, 3))\n",
    "print(\"result of pow(5,-3) \",M.pow(5, -3))                        # printing the output\n",
    "print(\"result of pow(-2, 5) \",M.pow(-2, 5))\n",
    "print(\"result of pow(-5,-3) \",M.pow(-5, -3))\n",
    "print(\"result of pow(20000, 3) \",M.pow(20000,0)) \n"
   ]
  },
  {
   "cell_type": "markdown",
   "metadata": {},
   "source": [
    "## 3) Write a python program that creates a class Base and Derived. Use inbuilt function issubclass and isinstance which gives boolean results.(True or False) \n",
    "\n",
    "                             Check: \n",
    "                             Derived class is a subclass of Base class which will return true \n",
    "                             Base class is a subclass of Derived class which will return false \n",
    "                             Base class is an  instance of Derived class which will return false \n",
    "                             Derived class is an instance of Base class which will return true"
   ]
  },
  {
   "cell_type": "code",
   "execution_count": 3,
   "metadata": {},
   "outputs": [
    {
     "name": "stdout",
     "output_type": "stream",
     "text": [
      "Derived class is a subclass of Base class which will return  True\n",
      "Base class is a subclass of Derived class which will return False\n",
      "Base class is an  instance of Derived class which will return False\n",
      "Derived class is an instance of Base class which will return True\n"
     ]
    }
   ],
   "source": [
    "class baseclass:                                             # Defining the base class\n",
    "    def __init__(self):\n",
    "        pass\n",
    "        \n",
    "class derivedClass(baseclass):                            # Defining the derived class\n",
    "    def __init__(self):\n",
    "        baseclass.__init__(self)\n",
    "        \n",
    "Objbaseclass=baseclass()\n",
    "ObjderivedClass=derivedClass()\n",
    "print(\"Derived class is a subclass of Base class which will return \",issubclass(derivedClass,baseclass))\n",
    "print(\"Base class is a subclass of Derived class which will return\", issubclass(baseclass,derivedClass))\n",
    "print(\"Base class is an  instance of Derived class which will return\",isinstance(Objbaseclass,derivedClass))\n",
    "print(\"Derived class is an instance of Base class which will return\",isinstance(ObjderivedClass,baseclass))"
   ]
  },
  {
   "cell_type": "markdown",
   "metadata": {},
   "source": [
    "## 4) Write a python program that creates base class Person which has two methods \n",
    "\n",
    "                             def __init__(self, first, last) \n",
    "                             def __str__(self) \n",
    "\n",
    "                             Also create a derived class named Employee which uses the base class  \n",
    "                         method “def __str__(self)” using “super()” to concatenate first name wit \n",
    "                         h last name "
   ]
  },
  {
   "cell_type": "code",
   "execution_count": 5,
   "metadata": {},
   "outputs": [
    {
     "name": "stdout",
     "output_type": "stream",
     "text": [
      "Full Name is Satish Kumar\n"
     ]
    }
   ],
   "source": [
    "class Person:                                                             # Created a base class\n",
    "    def __init__(self, first, last):                                      # Defined the init function\n",
    "        self.first=first                                   \n",
    "        self.last=last\n",
    "    \n",
    "    def __str__(self):                                                    # Defined the str function\n",
    "        return \"Full Name is \"\n",
    "    \n",
    "class Employee(Person):                                                    # Created a derived class\n",
    "    def __init__(self,first, last):                                        # Defined the init function\n",
    "        Person.__init__(self,first,last)\n",
    "        \n",
    "    def __str__(self):\n",
    "        return super(Employee, self).__str__() + \"%s %s\" % (self.first, self.last)    # concatenating the first and last names \n",
    "\n",
    "emp=Employee(\"Satish\",\"Kumar\")\n",
    "print(emp)"
   ]
  },
  {
   "cell_type": "code",
   "execution_count": null,
   "metadata": {},
   "outputs": [],
   "source": []
  }
 ],
 "metadata": {
  "kernelspec": {
   "display_name": "Python 3",
   "language": "python",
   "name": "python3"
  },
  "language_info": {
   "codemirror_mode": {
    "name": "ipython",
    "version": 3
   },
   "file_extension": ".py",
   "mimetype": "text/x-python",
   "name": "python",
   "nbconvert_exporter": "python",
   "pygments_lexer": "ipython3",
   "version": "3.7.0"
  }
 },
 "nbformat": 4,
 "nbformat_minor": 2
}
